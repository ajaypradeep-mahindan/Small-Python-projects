{
  "nbformat": 4,
  "nbformat_minor": 0,
  "metadata": {
    "colab": {
      "name": "LinkShorteners.ipynb",
      "provenance": [],
      "authorship_tag": "ABX9TyNfmBobZmVkZaS+6QXG7vGg",
      "include_colab_link": true
    },
    "kernelspec": {
      "name": "python3",
      "display_name": "Python 3"
    },
    "language_info": {
      "name": "python"
    }
  },
  "cells": [
    {
      "cell_type": "markdown",
      "metadata": {
        "id": "view-in-github",
        "colab_type": "text"
      },
      "source": [
        "<a href=\"https://colab.research.google.com/github/ajaypradeep-mahindan/Small-Python-projects/blob/main/LinkShorteners.ipynb\" target=\"_parent\"><img src=\"https://colab.research.google.com/assets/colab-badge.svg\" alt=\"Open In Colab\"/></a>"
      ]
    },
    {
      "cell_type": "code",
      "source": [
        "!pip3 install pyshorteners"
      ],
      "metadata": {
        "id": "mYZmMCqPZO95"
      },
      "execution_count": null,
      "outputs": []
    },
    {
      "cell_type": "code",
      "source": [
        "from pyshorteners import*\n",
        "\n",
        "link = \"https://github.com/ajaypradeep-mahindan\"\n",
        "result=Shortener().clckru.short(link)\n",
        "print(result)"
      ],
      "metadata": {
        "colab": {
          "base_uri": "https://localhost:8080/"
        },
        "id": "tAW8i4GHZgh1",
        "outputId": "9a717905-2d26-43df-ae39-5d743907853f"
      },
      "execution_count": 5,
      "outputs": [
        {
          "output_type": "stream",
          "name": "stdout",
          "text": [
            "https://clck.ru/eSH3T\n"
          ]
        }
      ]
    }
  ]
}