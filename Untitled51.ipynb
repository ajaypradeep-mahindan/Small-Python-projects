{
  "nbformat": 4,
  "nbformat_minor": 0,
  "metadata": {
    "colab": {
      "name": "Untitled51.ipynb",
      "provenance": [],
      "authorship_tag": "ABX9TyPUsq55N0Y8ISmQA0sUQntb",
      "include_colab_link": true
    },
    "kernelspec": {
      "name": "python3",
      "display_name": "Python 3"
    },
    "language_info": {
      "name": "python"
    }
  },
  "cells": [
    {
      "cell_type": "markdown",
      "metadata": {
        "id": "view-in-github",
        "colab_type": "text"
      },
      "source": [
        "<a href=\"https://colab.research.google.com/github/ajaypradeep-mahindan/Small-Python-projects/blob/main/Untitled51.ipynb\" target=\"_parent\"><img src=\"https://colab.research.google.com/assets/colab-badge.svg\" alt=\"Open In Colab\"/></a>"
      ]
    },
    {
      "cell_type": "code",
      "execution_count": 3,
      "metadata": {
        "colab": {
          "base_uri": "https://localhost:8080/"
        },
        "id": "A2QuNLLbgEDx",
        "outputId": "7308d8c3-cc67-46b4-d163-ba90fabc94f4"
      },
      "outputs": [
        {
          "output_type": "stream",
          "name": "stdout",
          "text": [
            "Looking in indexes: https://pypi.org/simple, https://us-python.pkg.dev/colab-wheels/public/simple/\n",
            "Requirement already satisfied: qrcode in /usr/local/lib/python3.7/dist-packages (7.3.1)\n"
          ]
        }
      ],
      "source": [
        "\n",
        "#Python Program for QR creation\n",
        "!pip3 install qrcode\n",
        "import qrcode\n",
        "\n",
        "\n",
        "#python package for qr code creation"
      ]
    },
    {
      "cell_type": "code",
      "source": [
        "qrfile= qrcode.make('https://sites.google.com/site/centreforbioinformatics/Home')\n",
        "# function for making qr code"
      ],
      "metadata": {
        "id": "lm5gw2DJgq4e"
      },
      "execution_count": 13,
      "outputs": []
    },
    {
      "cell_type": "code",
      "source": [
        "qrfile.save('qrpic.jpg')"
      ],
      "metadata": {
        "id": "g0B2vb7mgqyf"
      },
      "execution_count": 14,
      "outputs": []
    }
  ]
}