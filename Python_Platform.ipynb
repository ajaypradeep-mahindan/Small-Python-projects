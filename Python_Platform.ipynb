{
  "nbformat": 4,
  "nbformat_minor": 0,
  "metadata": {
    "colab": {
      "name": "Python_Platform.ipynb",
      "provenance": [],
      "authorship_tag": "ABX9TyNwRYFlxfKvh2K58RjcoVJJ",
      "include_colab_link": true
    },
    "kernelspec": {
      "name": "python3",
      "display_name": "Python 3"
    },
    "language_info": {
      "name": "python"
    }
  },
  "cells": [
    {
      "cell_type": "markdown",
      "metadata": {
        "id": "view-in-github",
        "colab_type": "text"
      },
      "source": [
        "<a href=\"https://colab.research.google.com/github/ajaypradeep-mahindan/Small-Python-projects/blob/main/Python_Platform.ipynb\" target=\"_parent\"><img src=\"https://colab.research.google.com/assets/colab-badge.svg\" alt=\"Open In Colab\"/></a>"
      ]
    },
    {
      "cell_type": "code",
      "execution_count": null,
      "metadata": {
        "id": "-iEG500-bYxO"
      },
      "outputs": [],
      "source": [
        "import platform as p"
      ]
    },
    {
      "cell_type": "code",
      "source": [
        "print(p.system())\n",
        "#to know the OS of the version(windows,linux)\n",
        "print(p.version())\n",
        "# version of software installed\n",
        "print(p.processor())\n",
        "#to know the processor of system\n",
        "      \n",
        "print(p.machine()) \n",
        "#to know architecture 32bit,64 bit"
      ],
      "metadata": {
        "colab": {
          "base_uri": "https://localhost:8080/"
        },
        "id": "vAxo3jCHbjNB",
        "outputId": "7cd34b59-022a-407e-a850-55d83ea9f352"
      },
      "execution_count": 5,
      "outputs": [
        {
          "output_type": "stream",
          "name": "stdout",
          "text": [
            "Linux\n",
            "#1 SMP Sun Apr 24 10:03:06 PDT 2022\n",
            "x86_64\n",
            "x86_64\n"
          ]
        }
      ]
    },
    {
      "cell_type": "markdown",
      "source": [
        "# New Section"
      ],
      "metadata": {
        "id": "aTzEPaYqgu1b"
      }
    },
    {
      "cell_type": "code",
      "source": [
        ""
      ],
      "metadata": {
        "id": "c3bQb_LWboZp"
      },
      "execution_count": null,
      "outputs": []
    }
  ]
}