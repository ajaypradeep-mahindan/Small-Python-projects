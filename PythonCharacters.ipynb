{
  "nbformat": 4,
  "nbformat_minor": 0,
  "metadata": {
    "colab": {
      "name": "PythonCharacters.ipynb",
      "provenance": [],
      "authorship_tag": "ABX9TyNkSSVS6pq5HnLjNUZ/dePl",
      "include_colab_link": true
    },
    "kernelspec": {
      "name": "python3",
      "display_name": "Python 3"
    },
    "language_info": {
      "name": "python"
    }
  },
  "cells": [
    {
      "cell_type": "markdown",
      "metadata": {
        "id": "view-in-github",
        "colab_type": "text"
      },
      "source": [
        "<a href=\"https://colab.research.google.com/github/ajaypradeep-mahindan/Small-Python-projects/blob/main/PythonCharacters.ipynb\" target=\"_parent\"><img src=\"https://colab.research.google.com/assets/colab-badge.svg\" alt=\"Open In Colab\"/></a>"
      ]
    },
    {
      "cell_type": "code",
      "metadata": {
        "colab": {
          "base_uri": "https://localhost:8080/"
        },
        "id": "RHclN-1Ndzg6",
        "outputId": "6d1130d7-9860-4290-acf7-8acfe6afe7db"
      },
      "source": [
        "# input the character\n",
        "u=input()\n",
        "#finding unicode number\n",
        "a=ord(u)\n",
        "print('*******************')\n",
        "#Applying Condition and Printing the character of the Respective language\n",
        "if (a>=3333 and a<=3385):\n",
        "  print(u,\"is a Malayalam Alphabet\")\n",
        "elif (a>=2949 and a<=2999):\n",
        "  print(u,\"is a Tamil Alphabet\")\n",
        "elif (a>=65 and a<=123):\n",
        "  print(u,\"is an English Alphabet\")\n",
        "elif (a>=2816 and a<=2943):\n",
        "  print(u,\"is an Odia alphabet\")\n",
        "elif (a>=3072 and a<=3199):\n",
        "  print(u,\"is a Telugu alphabet\")\n",
        "elif (a>=3201 and a<=3314):\n",
        "  print(u,\"is an Kannada alphabet\")\n",
        "elif (a>=2309 and a<=2359):\n",
        "  print(u,\"is a Hindi/Marathi alphabet\")\n",
        "elif (a>=2432 and a<=2559):\n",
        "  print(u,\"is a Bangla alphabet\")\n",
        "elif (a>=2688 and a<=2815):\n",
        "  print(u,\"is a Gujarati alphabet\")\n",
        "else:\n",
        "  print(u,\"is a ForiegnAlphabet/Non Supportable Character\")\n",
        "print('*******************')\n",
        "\n"
      ],
      "execution_count": 11,
      "outputs": [
        {
          "output_type": "stream",
          "name": "stdout",
          "text": [
            "t\n",
            "*******************\n",
            "t is an English Alphabet\n",
            "*******************\n"
          ]
        }
      ]
    }
  ]
}